{
 "cells": [
  {
   "cell_type": "code",
   "execution_count": 1,
   "metadata": {},
   "outputs": [
    {
     "name": "stdout",
     "output_type": "stream",
     "text": [
      "0\n",
      "FloPy is using the following  executable to run the model: .\\mf2005.EXE\n",
      "\n",
      "                                 MODFLOW-2000\n",
      "   U.S. GEOLOGICAL SURVEY MODULAR FINITE-DIFFERENCE GROUND-WATER FLOW MODEL\n",
      "                            Version 1.19.01 03/25/2010                      \n",
      "\n",
      "Using NAME file: tutorial2.nam                                                                                                                                                                                           \n",
      "Run start date and time (yyyy/mm/dd hh:mm:ss): 2019/09/19  9:06:38\n",
      "\n",
      "Run end date and time (yyyy/mm/dd hh:mm:ss): 2019/09/19  9:06:39\n",
      "Elapsed run time:  0.577 Seconds\n",
      "\n",
      "Normal termination of MODFLOW-2000\n",
      "1\n",
      "WARNING: unit 15 of package LPF already in use\n",
      "****Warning -- two packages of the same type:  <class 'flopy.modflow.mflpf.ModflowLpf'> <class 'flopy.modflow.mflpf.ModflowLpf'>\n",
      "replacing existing Package...\n",
      "FloPy is using the following  executable to run the model: .\\mf2005.EXE\n",
      "\n",
      "                                 MODFLOW-2000\n",
      "   U.S. GEOLOGICAL SURVEY MODULAR FINITE-DIFFERENCE GROUND-WATER FLOW MODEL\n",
      "                            Version 1.19.01 03/25/2010                      \n",
      "\n",
      "Using NAME file: tutorial2.nam                                                                                                                                                                                           \n",
      "Run start date and time (yyyy/mm/dd hh:mm:ss): 2019/09/19  9:06:39\n",
      "\n",
      "Run end date and time (yyyy/mm/dd hh:mm:ss): 2019/09/19  9:06:40\n",
      "Elapsed run time:  0.561 Seconds\n",
      "\n",
      "Normal termination of MODFLOW-2000\n"
     ]
    }
   ],
   "source": [
    "import Ex2\n",
    "\n"
   ]
  },
  {
   "cell_type": "code",
   "execution_count": null,
   "metadata": {},
   "outputs": [],
   "source": []
  }
 ],
 "metadata": {
  "kernelspec": {
   "display_name": "Python 3",
   "language": "python",
   "name": "python3"
  },
  "language_info": {
   "codemirror_mode": {
    "name": "ipython",
    "version": 3
   },
   "file_extension": ".py",
   "mimetype": "text/x-python",
   "name": "python",
   "nbconvert_exporter": "python",
   "pygments_lexer": "ipython3",
   "version": "3.7.1"
  }
 },
 "nbformat": 4,
 "nbformat_minor": 2
}
